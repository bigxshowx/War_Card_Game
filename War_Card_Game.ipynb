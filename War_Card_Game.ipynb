{
 "cells": [
  {
   "cell_type": "code",
   "execution_count": 100,
   "id": "627b2357",
   "metadata": {},
   "outputs": [],
   "source": [
    "# Card Class, to know suit, rank, integer value\n",
    "\n",
    "import random\n",
    "\n",
    "values = {\"Two\":2, \"Three\":3, \"Four\":4, \"Five\":5, \"Six\":6, \"Seven\":7, \n",
    "          \"Eight\":8, \"Nine\":9, \"Ten\":10, \"Jack\":11, \"Queen\":12, \"King\":13, \"Ace\":14}\n",
    "\n",
    "suits = ('Hearts', 'Diamonds', 'Spades', 'Clubs')\n",
    "ranks = (\"Two\", \"Three\", \"Four\", \"Five\", \"Six\", \"Seven\", \n",
    "          \"Eight\", \"Nine\", \"Ten\", \"Jack\", \"Queen\", \"King\", \"Ace\")\n",
    "\n",
    "class Card:\n",
    "    def __init__(self, suit, rank):\n",
    "        self.suit = suit\n",
    "        self.rank = rank\n",
    "        self.value = values[rank]\n",
    "        \n",
    "    def  __str__(self):\n",
    "        return self.rank + \" of \" + self.suit\n",
    "\n",
    "class Deck():\n",
    "    \n",
    "    def __init__(self):\n",
    "        \n",
    "        self.all_cards = []\n",
    "        \n",
    "        for suit in suits:\n",
    "            for rank in ranks:\n",
    "                #Create Card Object\n",
    "                created_card = Card(suit,rank)\n",
    "                self.all_cards.append(created_card)\n",
    "                \n",
    "    def shuffle_deck(self):\n",
    "        \n",
    "        random.shuffle(self.all_cards)\n",
    "        \n",
    "    def deal_one(self):\n",
    "        return self.all_cards.pop()\n",
    "    \n",
    "class Player():\n",
    "    \n",
    "    def __init__(self, name):\n",
    "        self.name = name\n",
    "        self.all_cards = []\n",
    "        \n",
    "    def remove_one(self):\n",
    "        return self.all_cards.pop(0)\n",
    "    \n",
    "    def add_cards(self, new_cards):\n",
    "        if type(new_cards) == list:\n",
    "            self.all_cards.extend(new_cards)\n",
    "        else:\n",
    "            self.all_cards.append(new_cards)\n",
    "    \n",
    "    def __str__(self):\n",
    "        return f'Player {self.name} has {len(self.all_cards)} card(s).'\n",
    "        "
   ]
  },
  {
   "cell_type": "code",
   "execution_count": 101,
   "id": "365067a1",
   "metadata": {},
   "outputs": [],
   "source": [
    "two_hearts = Card(\"Hearts\", \"Two\")\n",
    "three_clubs = Card(\"Clubs\", \"Three\")"
   ]
  },
  {
   "cell_type": "code",
   "execution_count": 102,
   "id": "af2d4d3e",
   "metadata": {},
   "outputs": [
    {
     "data": {
      "text/plain": [
       "[2, 3, 5, 6, 6]"
      ]
     },
     "execution_count": 102,
     "metadata": {},
     "output_type": "execute_result"
    }
   ],
   "source": [
    "two_hearts.value + three_clubs.value\n",
    "\n",
    "mylist = [1,2,3]\n",
    "\n",
    "mylist.append(5)\n",
    "mylist.pop(0)\n",
    "mylist.extend((6,6))\n",
    "mylist"
   ]
  },
  {
   "cell_type": "code",
   "execution_count": 103,
   "id": "ec38259d",
   "metadata": {},
   "outputs": [
    {
     "name": "stdout",
     "output_type": "stream",
     "text": [
      "Ace of Clubs\n",
      "52\n",
      "Ten of Diamonds\n",
      "Ten of Diamonds\n",
      "51\n",
      "Player Deddd has 0 card(s).\n",
      "Player Deddd has 1 card(s).\n"
     ]
    }
   ],
   "source": [
    "test_deck = Deck()\n",
    "\n",
    "print(test_deck.all_cards[-1])\n",
    "print(len(test_deck.all_cards))\n",
    "\n",
    "test_deck.shuffle_deck()\n",
    "print(test_deck.all_cards[-1])\n",
    "\n",
    "mycard = test_deck.deal_one()\n",
    "print(mycard)\n",
    "\n",
    "print(len(test_deck.all_cards))\n",
    "\n",
    "\n",
    "new_player = Player(\"Deddd\")\n",
    "\n",
    "print(new_player)\n",
    "\n",
    "new_player.add_cards(mycard)\n",
    "\n",
    "print(new_player)"
   ]
  },
  {
   "cell_type": "code",
   "execution_count": 104,
   "id": "ea2525c5",
   "metadata": {},
   "outputs": [],
   "source": [
    "#for card_object in new_deck.all_cards:\n",
    "#    print(card_object)"
   ]
  },
  {
   "cell_type": "code",
   "execution_count": 119,
   "id": "d04cfcc1",
   "metadata": {},
   "outputs": [
    {
     "name": "stdout",
     "output_type": "stream",
     "text": [
      "Round 1.\n",
      "26\n"
     ]
    }
   ],
   "source": [
    "# Game setup\n",
    "player_one = Player(\"One\")\n",
    "player_two = Player(\"Two\")\n",
    "\n",
    "new_deck = Deck()\n",
    "new_deck.shuffle_deck()\n",
    "\n",
    "# Split the desk, deal out all chards to both players:\n",
    "for card in range(26):\n",
    "    player_one.add_cards(new_deck.deal_one())\n",
    "    player_two.add_cards(new_deck.deal_one())\n",
    "\n",
    "game_on = True\n",
    "round_num = 0\n",
    "\n",
    "# Game Play Logic: while loop for game on\n",
    "while game_on:\n",
    "    round_num += 1\n",
    "    print(f'Round {round_num}.')\n",
    "    \n",
    "    if len(player_one.all_cards) == 0:\n",
    "        print('Player One, out of cards, player Two wins!')\n",
    "        game_on = False\n",
    "        \n",
    "    if len(player_two.all_cards) == 0:\n",
    "        print('Player Two, out of cards, player One wins!')\n",
    "        game_on = False\n",
    "    \n",
    "    # Start a new round\n",
    "    player_one_cards = []\n",
    "    player_one_cards.append(player_one.remove_one())\n",
    "    \n",
    "    player_two_cards = []\n",
    "    player_two_cards.append(player_two.remove_one())\n",
    "    \n",
    "    # While at war\n",
    "    at_war = True\n",
    "    \n",
    "    while at_war:\n",
    "        \n",
    "        if player_one.all_cards[-1] > \n",
    "        \n",
    "    "
   ]
  },
  {
   "cell_type": "code",
   "execution_count": 112,
   "id": "8089f495",
   "metadata": {},
   "outputs": [
    {
     "name": "stdout",
     "output_type": "stream",
     "text": [
      "[0, 1, 2, 3, 4, 5, 6, 7, 8, 9, 10, 11, 12, 13, 14, 15, 16, 17, 18, 19, 20, 21, 22, 23, 24, 25]\n",
      "26\n"
     ]
    }
   ],
   "source": [
    "checker = list(range(26))\n",
    "print(checker)\n",
    "print(len(checker))"
   ]
  },
  {
   "cell_type": "code",
   "execution_count": null,
   "id": "005b5643",
   "metadata": {},
   "outputs": [],
   "source": []
  }
 ],
 "metadata": {
  "kernelspec": {
   "display_name": "Python 3 (ipykernel)",
   "language": "python",
   "name": "python3"
  },
  "language_info": {
   "codemirror_mode": {
    "name": "ipython",
    "version": 3
   },
   "file_extension": ".py",
   "mimetype": "text/x-python",
   "name": "python",
   "nbconvert_exporter": "python",
   "pygments_lexer": "ipython3",
   "version": "3.11.2"
  }
 },
 "nbformat": 4,
 "nbformat_minor": 5
}
